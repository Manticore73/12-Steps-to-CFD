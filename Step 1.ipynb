{
 "cells": [
  {
   "cell_type": "code",
   "execution_count": 1,
   "metadata": {
    "collapsed": true
   },
   "outputs": [],
   "source": [
    "import numpy                                #load numpy\n",
    "from matplotlib import pyplot               #load matplotlib \n",
    "import time, sys                            #some utilities"
   ]
  },
  {
   "cell_type": "code",
   "execution_count": 2,
   "metadata": {
    "collapsed": true
   },
   "outputs": [],
   "source": [
    "#make matplotlib appear directly in the notebook\n",
    "%matplotlib inline"
   ]
  },
  {
   "cell_type": "code",
   "execution_count": 3,
   "metadata": {
    "collapsed": true
   },
   "outputs": [],
   "source": [
    "nx = 41                     #number of grid points\n",
    "dx = 2/(nx-1)               #distance b/w to grid points\n",
    "nt = 25                     #number of time steps\n",
    "dt = 0.025                  #delta- the amount of time each timestep covers\n",
    "c=1                         #the assumed value of wavespeed"
   ]
  },
  {
   "cell_type": "code",
   "execution_count": 4,
   "metadata": {},
   "outputs": [
    {
     "name": "stdout",
     "output_type": "stream",
     "text": [
      "[ 1.  1.  1.  1.  1.  1.  1.  1.  1.  1.  2.  2.  2.  2.  2.  2.  2.  2.\n",
      "  2.  2.  2.  1.  1.  1.  1.  1.  1.  1.  1.  1.  1.  1.  1.  1.  1.  1.\n",
      "  1.  1.  1.  1.  1.]\n"
     ]
    }
   ],
   "source": [
    "u = numpy.ones(nx)                    #numpy function ones()\n",
    "u[int(0.5 / dx):int(1 / dx+1)] = 2    #assigning u(11) to u(21) a value of '2'\n",
    "print(u)"
   ]
  },
  {
   "cell_type": "code",
   "execution_count": 5,
   "metadata": {},
   "outputs": [
    {
     "data": {
      "image/png": "[encoded data removed]",
      "text/plain": [
       "<matplotlib.figure.Figure at 0x7fe7ea2d7be0>"
      ]
     },
     "metadata": {},
     "output_type": "display_data"
    }
   ],
   "source": [
    "pyplot.plot(numpy.linspace(0,2,nx),u);   #x-coordinate is from 0-2 with nx discrete points"
   ]
  },
  {
   "cell_type": "code",
   "execution_count": 6,
   "metadata": {
    "collapsed": true
   },
   "outputs": [],
   "source": [
    "un = numpy.ones(nx)         #temporary array\n",
    "\n",
    "for n in range(nt):         #Loop will run for 'nt's\n",
    "    un = u.copy()           #Copying the xisting values of u to un\n",
    "    for i in range(1, nx):  #Moving accross the 1D space in the grid\n",
    "        u[i] = un[i] - c*(dt/dx)*(un[i]-un[i-1])\n"
   ]
  },
  {
   "cell_type": "code",
   "execution_count": 7,
   "metadata": {},
   "outputs": [
    {
     "data": {
      "image/png": "[encoded data removed]",
      "text/plain": [
       "<matplotlib.figure.Figure at 0x7fe7e6f3fa20>"
      ]
     },
     "metadata": {},
     "output_type": "display_data"
    }
   ],
   "source": [
    "pyplot.plot(numpy.linspace(0,2,nx), u);"
   ]
  },
  {
   "cell_type": "code",
   "execution_count": 8,
   "metadata": {},
   "outputs": [
    {
     "name": "stdout",
     "output_type": "stream",
     "text": [
      "[ 1.          1.          1.          1.          1.          1.          1.\n",
      "  1.          1.          1.          1.00000003  1.00000077  1.00000972\n",
      "  1.00007826  1.00045526  1.00203866  1.00731665  1.02164263  1.05387607\n",
      "  1.11476147  1.21217811  1.34501895  1.49999923  1.6549713   1.78774363\n",
      "  1.88478327  1.94408527  1.97104073  1.97104073  1.94408527  1.88478327\n",
      "  1.78774363  1.6549713   1.49999923  1.34501895  1.21217811  1.11476147\n",
      "  1.05387607  1.02164263  1.00731665  1.00203866]\n"
     ]
    }
   ],
   "source": [
    "print(u)"
   ]
  },
  {
   "cell_type": "code",
   "execution_count": null,
   "metadata": {
    "collapsed": true
   },
   "outputs": [],
   "source": []
  }
 ],
 "metadata": {
  "kernelspec": {
   "display_name": "Python 3",
   "language": "python",
   "name": "python3"
  },
  "language_info": {
   "codemirror_mode": {
    "name": "ipython",
    "version": 3
   },
   "file_extension": ".py",
   "mimetype": "text/x-python",
   "name": "python",
   "nbconvert_exporter": "python",
   "pygments_lexer": "ipython3",
   "version": "3.6.1"
  }
 },
 "nbformat": 4,
 "nbformat_minor": 2
}
